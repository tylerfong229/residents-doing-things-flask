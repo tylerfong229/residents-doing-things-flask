{
 "cells": [
  {
   "cell_type": "code",
   "execution_count": 23,
   "metadata": {},
   "outputs": [],
   "source": [
    "import get_schedule\n",
    "import pandas as pd\n",
    "import numpy as np"
   ]
  },
  {
   "cell_type": "code",
   "execution_count": 24,
   "metadata": {},
   "outputs": [
    {
     "name": "stdout",
     "output_type": "stream",
     "text": [
      "reading from cache\n"
     ]
    }
   ],
   "source": [
    "freetime = get_schedule.Schedule().run(\n",
    "        login_code=\"chla\",\n",
    "        start_date=\"2023-08-02\",\n",
    "        end_date=\"2023-08-07\",\n",
    "        names=['Benedetto, Lauren', \"Freeburg, Taylor\"]\n",
    "    )"
   ]
  },
  {
   "cell_type": "code",
   "execution_count": 22,
   "metadata": {},
   "outputs": [
    {
     "data": {
      "text/html": [
       "<div>\n",
       "<style scoped>\n",
       "    .dataframe tbody tr th:only-of-type {\n",
       "        vertical-align: middle;\n",
       "    }\n",
       "\n",
       "    .dataframe tbody tr th {\n",
       "        vertical-align: top;\n",
       "    }\n",
       "\n",
       "    .dataframe thead th {\n",
       "        text-align: right;\n",
       "    }\n",
       "</style>\n",
       "<table border=\"1\" class=\"dataframe\">\n",
       "  <thead>\n",
       "    <tr style=\"text-align: right;\">\n",
       "      <th></th>\n",
       "      <th>status</th>\n",
       "      <th>date</th>\n",
       "      <th>time_period</th>\n",
       "    </tr>\n",
       "  </thead>\n",
       "  <tbody>\n",
       "    <tr>\n",
       "      <th>0</th>\n",
       "      <td>FREE</td>\n",
       "      <td>2023-08-02</td>\n",
       "      <td>12:00 AM to 5:00 PM</td>\n",
       "    </tr>\n",
       "    <tr>\n",
       "      <th>0</th>\n",
       "      <td>BUSY</td>\n",
       "      <td>2023-08-02</td>\n",
       "      <td>5:00 PM to 11:59 PM</td>\n",
       "    </tr>\n",
       "    <tr>\n",
       "      <th>0</th>\n",
       "      <td>BUSY</td>\n",
       "      <td>2023-08-03</td>\n",
       "      <td>12:00 AM to 8:00 AM</td>\n",
       "    </tr>\n",
       "    <tr>\n",
       "      <th>0</th>\n",
       "      <td>FREE</td>\n",
       "      <td>2023-08-03</td>\n",
       "      <td>8:00 AM to 5:00 PM</td>\n",
       "    </tr>\n",
       "    <tr>\n",
       "      <th>0</th>\n",
       "      <td>BUSY</td>\n",
       "      <td>2023-08-03</td>\n",
       "      <td>5:00 PM to 11:59 PM</td>\n",
       "    </tr>\n",
       "    <tr>\n",
       "      <th>0</th>\n",
       "      <td>BUSY</td>\n",
       "      <td>2023-08-04</td>\n",
       "      <td>12:00 AM to 8:00 AM</td>\n",
       "    </tr>\n",
       "    <tr>\n",
       "      <th>0</th>\n",
       "      <td>FREE</td>\n",
       "      <td>2023-08-04</td>\n",
       "      <td>8:00 AM to 5:00 PM</td>\n",
       "    </tr>\n",
       "    <tr>\n",
       "      <th>0</th>\n",
       "      <td>BUSY</td>\n",
       "      <td>2023-08-04</td>\n",
       "      <td>5:00 PM to 11:59 PM</td>\n",
       "    </tr>\n",
       "    <tr>\n",
       "      <th>0</th>\n",
       "      <td>BUSY</td>\n",
       "      <td>2023-08-05</td>\n",
       "      <td>12:00 AM to 8:00 AM</td>\n",
       "    </tr>\n",
       "    <tr>\n",
       "      <th>0</th>\n",
       "      <td>FREE</td>\n",
       "      <td>2023-08-05</td>\n",
       "      <td>8:00 AM to 5:00 PM</td>\n",
       "    </tr>\n",
       "    <tr>\n",
       "      <th>0</th>\n",
       "      <td>BUSY</td>\n",
       "      <td>2023-08-05</td>\n",
       "      <td>5:00 PM to 11:59 PM</td>\n",
       "    </tr>\n",
       "    <tr>\n",
       "      <th>0</th>\n",
       "      <td>BUSY</td>\n",
       "      <td>2023-08-06</td>\n",
       "      <td>12:00 AM to 1:00 PM</td>\n",
       "    </tr>\n",
       "    <tr>\n",
       "      <th>0</th>\n",
       "      <td>FREE</td>\n",
       "      <td>2023-08-06</td>\n",
       "      <td>1:00 PM to 11:59 PM</td>\n",
       "    </tr>\n",
       "  </tbody>\n",
       "</table>\n",
       "</div>"
      ],
      "text/plain": [
       "  status        date          time_period\n",
       "0   FREE  2023-08-02  12:00 AM to 5:00 PM\n",
       "0   BUSY  2023-08-02  5:00 PM to 11:59 PM\n",
       "0   BUSY  2023-08-03  12:00 AM to 8:00 AM\n",
       "0   FREE  2023-08-03   8:00 AM to 5:00 PM\n",
       "0   BUSY  2023-08-03  5:00 PM to 11:59 PM\n",
       "0   BUSY  2023-08-04  12:00 AM to 8:00 AM\n",
       "0   FREE  2023-08-04   8:00 AM to 5:00 PM\n",
       "0   BUSY  2023-08-04  5:00 PM to 11:59 PM\n",
       "0   BUSY  2023-08-05  12:00 AM to 8:00 AM\n",
       "0   FREE  2023-08-05   8:00 AM to 5:00 PM\n",
       "0   BUSY  2023-08-05  5:00 PM to 11:59 PM\n",
       "0   BUSY  2023-08-06  12:00 AM to 1:00 PM\n",
       "0   FREE  2023-08-06  1:00 PM to 11:59 PM"
      ]
     },
     "execution_count": 22,
     "metadata": {},
     "output_type": "execute_result"
    }
   ],
   "source": [
    "freetime.loc[freetime['hour'] == 23, \"timestamp\"] = freetime['timestamp'] + pd.Timedelta(minutes=59)\n",
    "freetime['timestamp'] = freetime['timestamp'].dt.strftime(\"%-I:%M %p\")\n",
    "freetime = freetime.reset_index()\n",
    "freetime_fwd = freetime.copy()\n",
    "freetime_fwd['index'] = freetime_fwd['index'] + 1\n",
    "\n",
    "ft = freetime.merge(\n",
    "    freetime_fwd[['index', 'date', 'free_time']], \n",
    "    on = 'index', \n",
    "    how = 'left', \n",
    "    suffixes = [\"\", \"_1hr_fwd\"]\n",
    ")\n",
    "\n",
    "ft = ft.loc[\n",
    "    (ft['date_1hr_fwd'].isnull()) \n",
    "    | ((ft['date'] == ft['date_1hr_fwd']) & (ft['free_time'] != ft['free_time_1hr_fwd']))\n",
    "    | ((ft['hour'] == 23) & (ft['free_time'] == ft['free_time_1hr_fwd']))\n",
    "    | (ft['hour'] == 0)\n",
    "][['timestamp', 'date', 'hour', 'free_time']]\n",
    "\n",
    "ct = 0\n",
    "list_of_display_rows = []\n",
    "for row in ft.to_dict(\"records\"):\n",
    "    if ct == 0 or row['hour'] == 0:\n",
    "        time_start = str(row['timestamp'])\n",
    "        free_at_start = row[\"free_time\"]\n",
    "        time_end = \"\"\n",
    "        ct += 1\n",
    "    elif time_end == \"\":\n",
    "        time_end = str(row['timestamp'])\n",
    "        free_at_end = row[\"free_time\"]\n",
    "\n",
    "        if free_at_start:\n",
    "            status = \"FREE\"\n",
    "        else:\n",
    "            status = \"BUSY\"\n",
    "\n",
    "        list_of_display_rows.append(\n",
    "            pd.DataFrame(\n",
    "                {\n",
    "                    \"status\": [status],\n",
    "                    \"date\": [str(row['date'])],\n",
    "                    \"time_period\": [f\"{time_start} to {time_end}\"],\n",
    "                }\n",
    "            )\n",
    "        )\n",
    "\n",
    "        free_at_start = free_at_end\n",
    "        time_start = time_end\n",
    "        time_end = \"\"\n",
    "        ct += 1\n",
    "        \n",
    "pd.concat(list_of_display_rows)"
   ]
  },
  {
   "cell_type": "code",
   "execution_count": 26,
   "metadata": {},
   "outputs": [],
   "source": [
    "df = pd.DataFrame({\n",
    "    \"name\": [\"tyler\", \"lauren\", \"taylor\", \"matt\"]\n",
    "})"
   ]
  },
  {
   "cell_type": "code",
   "execution_count": 33,
   "metadata": {},
   "outputs": [
    {
     "data": {
      "text/plain": [
       "'tyler\\r\\nlauren\\r\\ntaylor\\r\\nmatt\\r\\n'"
      ]
     },
     "execution_count": 33,
     "metadata": {},
     "output_type": "execute_result"
    }
   ],
   "source": [
    "\"\\r\\n\".join(list(df.name.unique())) + \"\\r\\n\""
   ]
  },
  {
   "cell_type": "code",
   "execution_count": 36,
   "metadata": {},
   "outputs": [],
   "source": [
    "names = list(df.name.unique())"
   ]
  },
  {
   "cell_type": "code",
   "execution_count": 39,
   "metadata": {},
   "outputs": [],
   "source": [
    "string_of_names = \",\".join(names)"
   ]
  },
  {
   "cell_type": "code",
   "execution_count": 42,
   "metadata": {},
   "outputs": [],
   "source": [
    "list_of_files= string_of_names.split(\",\")\n",
    "files = [(x, x) for x in list_of_files]"
   ]
  },
  {
   "cell_type": "code",
   "execution_count": 43,
   "metadata": {},
   "outputs": [
    {
     "data": {
      "text/plain": [
       "[('tyler', 'tyler'),\n",
       " ('lauren', 'lauren'),\n",
       " ('taylor', 'taylor'),\n",
       " ('matt', 'matt')]"
      ]
     },
     "execution_count": 43,
     "metadata": {},
     "output_type": "execute_result"
    }
   ],
   "source": [
    "files"
   ]
  },
  {
   "cell_type": "code",
   "execution_count": null,
   "metadata": {},
   "outputs": [],
   "source": []
  },
  {
   "cell_type": "code",
   "execution_count": null,
   "metadata": {},
   "outputs": [],
   "source": []
  },
  {
   "cell_type": "code",
   "execution_count": null,
   "metadata": {},
   "outputs": [],
   "source": [
    "ft = freetime.merge(\n",
    "    freetime_fwd[['index', 'date', 'free_time']], \n",
    "    on = 'index', \n",
    "    how = 'left', \n",
    "    suffixes = [\"\", \"_1hr_fwd\"]\n",
    ")\n",
    "\n",
    "ft.loc[\n",
    "    (ft['date_1hr_fwd'].isnull()) \n",
    "    | ((ft['date'] == ft['date_1hr_fwd']) & (ft['free_time'] != ft['free_time_1hr_fwd']))\n",
    "    | ((ft['hour'] == 23) & (ft['free_time'] == ft['free_time_1hr_fwd']))\n",
    "    | (ft['hour'] == 0),\n",
    "    \"flag\"\n",
    "] = \"FLAG\""
   ]
  },
  {
   "cell_type": "code",
   "execution_count": null,
   "metadata": {},
   "outputs": [],
   "source": [
    "ft[(ft['date'].astype(str).isin([\"2023-08-02\", \"2023-08-03\"])) & (ft['flag'].notnull()) ]"
   ]
  },
  {
   "cell_type": "code",
   "execution_count": null,
   "metadata": {},
   "outputs": [],
   "source": []
  }
 ],
 "metadata": {
  "kernelspec": {
   "display_name": ".venv",
   "language": "python",
   "name": "python3"
  },
  "language_info": {
   "codemirror_mode": {
    "name": "ipython",
    "version": 3
   },
   "file_extension": ".py",
   "mimetype": "text/x-python",
   "name": "python",
   "nbconvert_exporter": "python",
   "pygments_lexer": "ipython3",
   "version": "3.11.4"
  },
  "orig_nbformat": 4
 },
 "nbformat": 4,
 "nbformat_minor": 2
}
