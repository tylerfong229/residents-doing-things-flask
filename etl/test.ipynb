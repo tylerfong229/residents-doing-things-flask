{
 "cells": [
  {
   "cell_type": "code",
   "execution_count": 1,
   "metadata": {},
   "outputs": [],
   "source": [
    "import get_schedule\n",
    "import pandas as pd\n",
    "import numpy as np"
   ]
  },
  {
   "cell_type": "code",
   "execution_count": 2,
   "metadata": {},
   "outputs": [
    {
     "name": "stdout",
     "output_type": "stream",
     "text": [
      "reading from cache\n"
     ]
    }
   ],
   "source": [
    "freetime = get_schedule.Schedule().run(\n",
    "        login_code=\"chla\",\n",
    "        start_date=\"2023-08-02\",\n",
    "        end_date=\"2023-08-07\",\n",
    "        names=['Benedetto, Lauren', \"Freeburg, Taylor\"]\n",
    "    )"
   ]
  },
  {
   "cell_type": "code",
   "execution_count": null,
   "metadata": {},
   "outputs": [],
   "source": [
    "availabilities = {\n",
    "        \"July 10\": [\n",
    "            {\"start_time\": 0, \"end_time\": 6, \"display_range\": \"12:00AM - 6:00AM (6 hrs)\"},\n",
    "            {\"start_time\": 17, \"end_time\": 24, \"display_range\": \"5:00PM - 11:59PM (7 hrs)\"},\n",
    "        ],\n",
    "        \"July 11\": [\n",
    "            {\"start_time\": 18, \"end_time\": 24, \"display_range\": \"6:00PM - 11:59PM (6 hrs)\"},\n",
    "        ],\n",
    "        \"July 14\": [\n",
    "            {\"start_time\": 21, \"end_time\": 24, \"display_range\": \"9:00PM - 11:59PM (3 hrs)\"},\n",
    "        ],\n",
    "    }"
   ]
  },
  {
   "cell_type": "code",
   "execution_count": 13,
   "metadata": {},
   "outputs": [],
   "source": [
    "availabilities = {}\n",
    "prev_date = \"\"\n",
    "for row in freetime.sort_values(by='date').iterrows():\n",
    "    r = row[1]\n",
    "    hours = int(r['end_time'] - r['start_time'])\n",
    "    free_time_detail = {\n",
    "            \"start_time\": r['start_time'], \n",
    "            \"end_time\": r['end_time'], \n",
    "            \"display_range\": f\"{r['time_period']} ({str(hours)} hours)\"\n",
    "        }\n",
    "    if r['date'] != prev_date:\n",
    "        availabilities[r['date']] = [free_time_detail]\n",
    "        prev_date = r['date']\n",
    "    else:\n",
    "        availabilities[r['date']].append(free_time_detail)\n",
    "        prev_date = r['date']\n"
   ]
  },
  {
   "cell_type": "code",
   "execution_count": 14,
   "metadata": {},
   "outputs": [
    {
     "data": {
      "text/plain": [
       "{'2023-08-02': [{'start_time': 0,\n",
       "   'end_time': 17,\n",
       "   'display_range': '12:00 AM to 5:00 PM (17 hours)'}],\n",
       " '2023-08-03': [{'start_time': 8,\n",
       "   'end_time': 17,\n",
       "   'display_range': '8:00 AM to 5:00 PM (9 hours)'}],\n",
       " '2023-08-04': [{'start_time': 8,\n",
       "   'end_time': 17,\n",
       "   'display_range': '8:00 AM to 5:00 PM (9 hours)'}],\n",
       " '2023-08-05': [{'start_time': 8,\n",
       "   'end_time': 17,\n",
       "   'display_range': '8:00 AM to 5:00 PM (9 hours)'}],\n",
       " '2023-08-06': [{'start_time': 13,\n",
       "   'end_time': 23,\n",
       "   'display_range': '1:00 PM to 11:59 PM (10 hours)'}]}"
      ]
     },
     "execution_count": 14,
     "metadata": {},
     "output_type": "execute_result"
    }
   ],
   "source": [
    "availabilities"
   ]
  },
  {
   "cell_type": "code",
   "execution_count": 15,
   "metadata": {},
   "outputs": [
    {
     "data": {
      "text/plain": [
       "[0,\n",
       " 1,\n",
       " 2,\n",
       " 3,\n",
       " 4,\n",
       " 5,\n",
       " 6,\n",
       " 7,\n",
       " 8,\n",
       " 9,\n",
       " 10,\n",
       " 11,\n",
       " 12,\n",
       " 13,\n",
       " 14,\n",
       " 15,\n",
       " 16,\n",
       " 17,\n",
       " 18,\n",
       " 19,\n",
       " 20,\n",
       " 21,\n",
       " 22,\n",
       " 23]"
      ]
     },
     "execution_count": 15,
     "metadata": {},
     "output_type": "execute_result"
    }
   ],
   "source": [
    "list(np.arange(24))"
   ]
  },
  {
   "cell_type": "code",
   "execution_count": null,
   "metadata": {},
   "outputs": [],
   "source": []
  },
  {
   "cell_type": "code",
   "execution_count": null,
   "metadata": {},
   "outputs": [],
   "source": []
  },
  {
   "cell_type": "code",
   "execution_count": null,
   "metadata": {},
   "outputs": [],
   "source": []
  },
  {
   "cell_type": "code",
   "execution_count": null,
   "metadata": {},
   "outputs": [],
   "source": []
  },
  {
   "cell_type": "code",
   "execution_count": null,
   "metadata": {},
   "outputs": [],
   "source": []
  },
  {
   "cell_type": "code",
   "execution_count": 22,
   "metadata": {},
   "outputs": [
    {
     "data": {
      "text/html": [
       "<div>\n",
       "<style scoped>\n",
       "    .dataframe tbody tr th:only-of-type {\n",
       "        vertical-align: middle;\n",
       "    }\n",
       "\n",
       "    .dataframe tbody tr th {\n",
       "        vertical-align: top;\n",
       "    }\n",
       "\n",
       "    .dataframe thead th {\n",
       "        text-align: right;\n",
       "    }\n",
       "</style>\n",
       "<table border=\"1\" class=\"dataframe\">\n",
       "  <thead>\n",
       "    <tr style=\"text-align: right;\">\n",
       "      <th></th>\n",
       "      <th>status</th>\n",
       "      <th>date</th>\n",
       "      <th>time_period</th>\n",
       "    </tr>\n",
       "  </thead>\n",
       "  <tbody>\n",
       "    <tr>\n",
       "      <th>0</th>\n",
       "      <td>FREE</td>\n",
       "      <td>2023-08-02</td>\n",
       "      <td>12:00 AM to 5:00 PM</td>\n",
       "    </tr>\n",
       "    <tr>\n",
       "      <th>0</th>\n",
       "      <td>BUSY</td>\n",
       "      <td>2023-08-02</td>\n",
       "      <td>5:00 PM to 11:59 PM</td>\n",
       "    </tr>\n",
       "    <tr>\n",
       "      <th>0</th>\n",
       "      <td>BUSY</td>\n",
       "      <td>2023-08-03</td>\n",
       "      <td>12:00 AM to 8:00 AM</td>\n",
       "    </tr>\n",
       "    <tr>\n",
       "      <th>0</th>\n",
       "      <td>FREE</td>\n",
       "      <td>2023-08-03</td>\n",
       "      <td>8:00 AM to 5:00 PM</td>\n",
       "    </tr>\n",
       "    <tr>\n",
       "      <th>0</th>\n",
       "      <td>BUSY</td>\n",
       "      <td>2023-08-03</td>\n",
       "      <td>5:00 PM to 11:59 PM</td>\n",
       "    </tr>\n",
       "    <tr>\n",
       "      <th>0</th>\n",
       "      <td>BUSY</td>\n",
       "      <td>2023-08-04</td>\n",
       "      <td>12:00 AM to 8:00 AM</td>\n",
       "    </tr>\n",
       "    <tr>\n",
       "      <th>0</th>\n",
       "      <td>FREE</td>\n",
       "      <td>2023-08-04</td>\n",
       "      <td>8:00 AM to 5:00 PM</td>\n",
       "    </tr>\n",
       "    <tr>\n",
       "      <th>0</th>\n",
       "      <td>BUSY</td>\n",
       "      <td>2023-08-04</td>\n",
       "      <td>5:00 PM to 11:59 PM</td>\n",
       "    </tr>\n",
       "    <tr>\n",
       "      <th>0</th>\n",
       "      <td>BUSY</td>\n",
       "      <td>2023-08-05</td>\n",
       "      <td>12:00 AM to 8:00 AM</td>\n",
       "    </tr>\n",
       "    <tr>\n",
       "      <th>0</th>\n",
       "      <td>FREE</td>\n",
       "      <td>2023-08-05</td>\n",
       "      <td>8:00 AM to 5:00 PM</td>\n",
       "    </tr>\n",
       "    <tr>\n",
       "      <th>0</th>\n",
       "      <td>BUSY</td>\n",
       "      <td>2023-08-05</td>\n",
       "      <td>5:00 PM to 11:59 PM</td>\n",
       "    </tr>\n",
       "    <tr>\n",
       "      <th>0</th>\n",
       "      <td>BUSY</td>\n",
       "      <td>2023-08-06</td>\n",
       "      <td>12:00 AM to 1:00 PM</td>\n",
       "    </tr>\n",
       "    <tr>\n",
       "      <th>0</th>\n",
       "      <td>FREE</td>\n",
       "      <td>2023-08-06</td>\n",
       "      <td>1:00 PM to 11:59 PM</td>\n",
       "    </tr>\n",
       "  </tbody>\n",
       "</table>\n",
       "</div>"
      ],
      "text/plain": [
       "  status        date          time_period\n",
       "0   FREE  2023-08-02  12:00 AM to 5:00 PM\n",
       "0   BUSY  2023-08-02  5:00 PM to 11:59 PM\n",
       "0   BUSY  2023-08-03  12:00 AM to 8:00 AM\n",
       "0   FREE  2023-08-03   8:00 AM to 5:00 PM\n",
       "0   BUSY  2023-08-03  5:00 PM to 11:59 PM\n",
       "0   BUSY  2023-08-04  12:00 AM to 8:00 AM\n",
       "0   FREE  2023-08-04   8:00 AM to 5:00 PM\n",
       "0   BUSY  2023-08-04  5:00 PM to 11:59 PM\n",
       "0   BUSY  2023-08-05  12:00 AM to 8:00 AM\n",
       "0   FREE  2023-08-05   8:00 AM to 5:00 PM\n",
       "0   BUSY  2023-08-05  5:00 PM to 11:59 PM\n",
       "0   BUSY  2023-08-06  12:00 AM to 1:00 PM\n",
       "0   FREE  2023-08-06  1:00 PM to 11:59 PM"
      ]
     },
     "execution_count": 22,
     "metadata": {},
     "output_type": "execute_result"
    }
   ],
   "source": [
    "eetime['hour'] == 23, \"timestamp\"] = freetime['timestamp'] + pd.Timedelta(minutes=59)\n",
    "freetime['timestamp'] = freetime['timestamp'].dt.strftime(\"%-I:%M %p\")\n",
    "freetime = freetime.reset_index()\n",
    "freetime_fwd = freetime.copy()\n",
    "freetime_fwd['index'] = freetime_fwd['index'] + 1\n",
    "\n",
    "ft = freetime.merge(\n",
    "    freetime_fwd[['index', 'date', 'free_time']], \n",
    "    on = 'index', \n",
    "    how = 'left', \n",
    "    suffixes = [\"\", \"_1hr_fwd\"]\n",
    ")\n",
    "\n",
    "ft = ft.loc[\n",
    "    (ft['date_1hr_fwd'].isnull()) \n",
    "    | ((ft['date'] == ft['date_1hr_fwd']) & (ft['free_time'] != ft['free_time_1hr_fwd']))\n",
    "    | ((ft['hour'] == 23) & (ft['free_time'] == ft['free_time_1hr_fwd']))\n",
    "    | (ft['hour'] == 0)\n",
    "][['timestamp', 'date', 'hour', 'free_time']]\n",
    "\n",
    "ct = 0\n",
    "list_of_display_rows = []\n",
    "for row in ft.to_dict(\"records\"):\n",
    "    if ct == 0 or row['hour'] == 0:\n",
    "        time_start = str(row['timestamp'])\n",
    "        free_at_start = row[\"free_time\"]\n",
    "        time_end = \"\"\n",
    "        ct += 1\n",
    "    elif time_end == \"\":\n",
    "        time_end = str(row['timestamp'])\n",
    "        free_at_end = row[\"free_time\"]\n",
    "\n",
    "        if free_at_start:\n",
    "            status = \"FREE\"\n",
    "        else:\n",
    "            status = \"BUSY\"\n",
    "\n",
    "        list_of_display_rows.append(\n",
    "            pd.DataFrame(\n",
    "                {\n",
    "                    \"status\": [status],\n",
    "                    \"date\": [str(row['date'])],\n",
    "                    \"time_period\": [f\"{time_start} to {time_end}\"],\n",
    "                }\n",
    "            )\n",
    "        )\n",
    "\n",
    "        free_at_start = free_at_end\n",
    "        time_start = time_end\n",
    "        time_end = \"\"\n",
    "        ct += 1\n",
    "        \n",
    "pd.concat(list_of_display_rows)"
   ]
  },
  {
   "cell_type": "code",
   "execution_count": 26,
   "metadata": {},
   "outputs": [],
   "source": [
    "df = pd.DataFrame({\n",
    "    \"name\": [\"tyler\", \"lauren\", \"taylor\", \"matt\"]\n",
    "})"
   ]
  },
  {
   "cell_type": "code",
   "execution_count": 33,
   "metadata": {},
   "outputs": [
    {
     "data": {
      "text/plain": [
       "'tyler\\r\\nlauren\\r\\ntaylor\\r\\nmatt\\r\\n'"
      ]
     },
     "execution_count": 33,
     "metadata": {},
     "output_type": "execute_result"
    }
   ],
   "source": [
    "\"\\r\\n\".join(list(df.name.unique())) + \"\\r\\n\""
   ]
  },
  {
   "cell_type": "code",
   "execution_count": 36,
   "metadata": {},
   "outputs": [],
   "source": [
    "names = list(df.name.unique())"
   ]
  },
  {
   "cell_type": "code",
   "execution_count": 39,
   "metadata": {},
   "outputs": [],
   "source": [
    "string_of_names = \",\".join(names)"
   ]
  },
  {
   "cell_type": "code",
   "execution_count": 42,
   "metadata": {},
   "outputs": [],
   "source": [
    "list_of_files= string_of_names.split(\",\")\n",
    "files = [(x, x) for x in list_of_files]"
   ]
  },
  {
   "cell_type": "code",
   "execution_count": 43,
   "metadata": {},
   "outputs": [
    {
     "data": {
      "text/plain": [
       "[('tyler', 'tyler'),\n",
       " ('lauren', 'lauren'),\n",
       " ('taylor', 'taylor'),\n",
       " ('matt', 'matt')]"
      ]
     },
     "execution_count": 43,
     "metadata": {},
     "output_type": "execute_result"
    }
   ],
   "source": [
    "files"
   ]
  },
  {
   "cell_type": "code",
   "execution_count": 45,
   "metadata": {},
   "outputs": [
    {
     "data": {
      "text/plain": [
       "[0,\n",
       " 1,\n",
       " 2,\n",
       " 3,\n",
       " 4,\n",
       " 5,\n",
       " 6,\n",
       " 7,\n",
       " 8,\n",
       " 9,\n",
       " 10,\n",
       " 11,\n",
       " 12,\n",
       " 13,\n",
       " 14,\n",
       " 15,\n",
       " 16,\n",
       " 17,\n",
       " 18,\n",
       " 19,\n",
       " 20,\n",
       " 21,\n",
       " 22,\n",
       " 23]"
      ]
     },
     "execution_count": 45,
     "metadata": {},
     "output_type": "execute_result"
    }
   ],
   "source": [
    "list(np.arange(24))"
   ]
  },
  {
   "cell_type": "code",
   "execution_count": null,
   "metadata": {},
   "outputs": [],
   "source": []
  },
  {
   "cell_type": "code",
   "execution_count": null,
   "metadata": {},
   "outputs": [],
   "source": [
    "ft = freetime.merge(\n",
    "    freetime_fwd[['index', 'date', 'free_time']], \n",
    "    on = 'index', \n",
    "    how = 'left', \n",
    "    suffixes = [\"\", \"_1hr_fwd\"]\n",
    ")\n",
    "\n",
    "ft.loc[\n",
    "    (ft['date_1hr_fwd'].isnull()) \n",
    "    | ((ft['date'] == ft['date_1hr_fwd']) & (ft['free_time'] != ft['free_time_1hr_fwd']))\n",
    "    | ((ft['hour'] == 23) & (ft['free_time'] == ft['free_time_1hr_fwd']))\n",
    "    | (ft['hour'] == 0),\n",
    "    \"flag\"\n",
    "] = \"FLAG\""
   ]
  },
  {
   "cell_type": "code",
   "execution_count": null,
   "metadata": {},
   "outputs": [],
   "source": [
    "ft[(ft['date'].astype(str).isin([\"2023-08-02\", \"2023-08-03\"])) & (ft['flag'].notnull()) ]"
   ]
  },
  {
   "cell_type": "code",
   "execution_count": 47,
   "metadata": {},
   "outputs": [],
   "source": [
    "df = pd.read_csv(r\"/Users/tylerfong/repos/residents-doing-things-flask/_cache/amion_cache_start=202382_days=14.csv\")"
   ]
  },
  {
   "cell_type": "code",
   "execution_count": 49,
   "metadata": {},
   "outputs": [
    {
     "data": {
      "text/html": [
       "<div>\n",
       "<style scoped>\n",
       "    .dataframe tbody tr th:only-of-type {\n",
       "        vertical-align: middle;\n",
       "    }\n",
       "\n",
       "    .dataframe tbody tr th {\n",
       "        vertical-align: top;\n",
       "    }\n",
       "\n",
       "    .dataframe thead th {\n",
       "        text-align: right;\n",
       "    }\n",
       "</style>\n",
       "<table border=\"1\" class=\"dataframe\">\n",
       "  <thead>\n",
       "    <tr style=\"text-align: right;\">\n",
       "      <th></th>\n",
       "      <th>name</th>\n",
       "      <th>name_id1</th>\n",
       "      <th>name_id2</th>\n",
       "      <th>team</th>\n",
       "      <th>team_id1</th>\n",
       "      <th>team_id2</th>\n",
       "      <th>date</th>\n",
       "      <th>start_time</th>\n",
       "      <th>end_time</th>\n",
       "    </tr>\n",
       "  </thead>\n",
       "  <tbody>\n",
       "  </tbody>\n",
       "</table>\n",
       "</div>"
      ],
      "text/plain": [
       "Empty DataFrame\n",
       "Columns: [name, name_id1, name_id2, team, team_id1, team_id2, date, start_time, end_time]\n",
       "Index: []"
      ]
     },
     "execution_count": 49,
     "metadata": {},
     "output_type": "execute_result"
    }
   ],
   "source": [
    "df[df['name'].str.contains(\"Bruce\")]"
   ]
  },
  {
   "cell_type": "code",
   "execution_count": 16,
   "metadata": {},
   "outputs": [],
   "source": [
    "import datetime as dt"
   ]
  },
  {
   "cell_type": "code",
   "execution_count": 22,
   "metadata": {},
   "outputs": [
    {
     "data": {
      "text/plain": [
       "'August 1'"
      ]
     },
     "execution_count": 22,
     "metadata": {},
     "output_type": "execute_result"
    }
   ],
   "source": [
    "dt.datetime.strptime(\"2023-08-01\", \"%Y-%m-%d\").strftime(\"%B %-d\")"
   ]
  },
  {
   "cell_type": "code",
   "execution_count": null,
   "metadata": {},
   "outputs": [],
   "source": []
  }
 ],
 "metadata": {
  "kernelspec": {
   "display_name": ".venv",
   "language": "python",
   "name": "python3"
  },
  "language_info": {
   "codemirror_mode": {
    "name": "ipython",
    "version": 3
   },
   "file_extension": ".py",
   "mimetype": "text/x-python",
   "name": "python",
   "nbconvert_exporter": "python",
   "pygments_lexer": "ipython3",
   "version": "3.11.4"
  },
  "orig_nbformat": 4
 },
 "nbformat": 4,
 "nbformat_minor": 2
}
