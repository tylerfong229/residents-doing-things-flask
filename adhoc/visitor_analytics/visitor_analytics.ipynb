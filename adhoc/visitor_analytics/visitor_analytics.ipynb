{
 "cells": [
  {
   "cell_type": "code",
   "execution_count": 6,
   "metadata": {},
   "outputs": [],
   "source": [
    "import pandas as pd\n",
    "import os"
   ]
  },
  {
   "cell_type": "code",
   "execution_count": 27,
   "metadata": {},
   "outputs": [
    {
     "name": "stdout",
     "output_type": "stream",
     "text": [
      "0.023\n",
      "0.002\n",
      "0.006\n",
      "0.170\n",
      "0.604\n",
      "0.002\n",
      "0.028\n",
      "0.682\n",
      "0.005\n",
      "0.214\n",
      "0.003\n",
      "0.026\n",
      "0.002\n",
      "0.007\n",
      "0.157\n",
      "0.028\n",
      "0.002\n",
      "0.019\n",
      "0.129\n",
      "0.003\n",
      "0.103\n",
      "0.002\n",
      "0.018\n",
      "0.002\n",
      "0.002\n",
      "0.002\n",
      "0.004\n",
      "0.004\n",
      "0.147\n",
      "0.044\n",
      "0.002\n",
      "0.015\n",
      "0.246\n",
      "0.005\n",
      "0.016\n",
      "0.002\n",
      "0.079\n",
      "0.340\n",
      "0.002\n",
      "4.755\n",
      "0.001\n",
      "0.150\n",
      "0.026\n",
      "0.002\n",
      "0.192\n",
      "0.003\n",
      "0.142\n",
      "0.173\n",
      "0.004\n",
      "0.018\n",
      "0.872\n",
      "0.002\n",
      "0.018\n",
      "0.002\n",
      "5.041\n",
      "0.00\n"
     ]
    }
   ],
   "source": [
    "f = open(r\"logs/log.txt\", \"r\")\n",
    "resp_list = []\n",
    "for line in f:\n",
    "    line_seg = line.replace(' \"', '<><> \"').split(\"<><>\")\n",
    "    ip_address = line_seg[0].split(\" - - \")[0]\n",
    "    timestamp = line_seg[0].split(\" - - \")[1]\n",
    "\n",
    "    request_method = line_seg[1].split(\" \")[1]\n",
    "    page = line_seg[1].split(\" \")[2]\n",
    "    status_code = line_seg[1].split(\" \")[4]\n",
    "    requesting_machine = line_seg[3].split(\" \")[1]\n",
    "    response_time = float(line_seg[4].split(\" \")[2].split(\"=\")[1][:-1])\n",
    "\n",
    "    line_df = pd.DataFrame({\n",
    "        \"ip_address\": [ip_address],\n",
    "        \"timestamp\": [timestamp],\n",
    "        \"request_method\": [request_method],\n",
    "        \"status_code\": [status_code],\n",
    "        \"requesting_machine\": [requesting_machine],\n",
    "        \"response_time\": [response_time],\n",
    "    })"
   ]
  },
  {
   "cell_type": "code",
   "execution_count": null,
   "metadata": {},
   "outputs": [],
   "source": []
  },
  {
   "cell_type": "code",
   "execution_count": null,
   "metadata": {},
   "outputs": [],
   "source": []
  }
 ],
 "metadata": {
  "kernelspec": {
   "display_name": ".venv",
   "language": "python",
   "name": "python3"
  },
  "language_info": {
   "codemirror_mode": {
    "name": "ipython",
    "version": 3
   },
   "file_extension": ".py",
   "mimetype": "text/x-python",
   "name": "python",
   "nbconvert_exporter": "python",
   "pygments_lexer": "ipython3",
   "version": "3.11.4"
  },
  "orig_nbformat": 4
 },
 "nbformat": 4,
 "nbformat_minor": 2
}
